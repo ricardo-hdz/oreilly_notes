{
 "cells": [
  {
   "cell_type": "code",
   "execution_count": 117,
   "metadata": {},
   "outputs": [],
   "source": [
    "import pandas as pd\n",
    "import numpy as np\n",
    "pd.set_option('max_colwidth', 5000)"
   ]
  },
  {
   "cell_type": "code",
   "execution_count": 118,
   "metadata": {},
   "outputs": [],
   "source": [
    "book_title = 'Prometheus: Up & Running'\n",
    "f = 'safari-annotations-export (9).csv'"
   ]
  },
  {
   "cell_type": "code",
   "execution_count": 119,
   "metadata": {},
   "outputs": [],
   "source": [
    "d = pd.read_csv(f, skip_blank_lines=True, keep_default_na=False)"
   ]
  },
  {
   "cell_type": "code",
   "execution_count": 120,
   "metadata": {},
   "outputs": [],
   "source": [
    "n = []\n",
    "for i, row in d.iterrows():\n",
    "    if row['Book Title'] == book_title:\n",
    "        n.append(row['Highlight'] + ' ' + row['Personal Note'])\n",
    "#     else:\n",
    "#         n.append((row['Book Title'] + ' ' +\n",
    "#             row['Authors'] + ' ' + \n",
    "#             row['Chapter Title'] + ' ' + \n",
    "#             row['Date of Highlight'] + ' ' +\n",
    "#             row['Book URL'] + ' ' +\n",
    "#             row['Chapter URL'] + ' ' +\n",
    "#             row['Highlight URL'] + ' ' +\n",
    "#             row['Highlight'] + ' ' +\n",
    "#             row['Personal Note']))"
   ]
  },
  {
   "cell_type": "code",
   "execution_count": 121,
   "metadata": {},
   "outputs": [],
   "source": [
    "notes = pd.DataFrame(n, columns=['note'])"
   ]
  },
  {
   "cell_type": "code",
   "execution_count": 128,
   "metadata": {},
   "outputs": [],
   "source": [
    "notes.iloc[::-1].to_clipboard(index=False, sep='\\n')"
   ]
  },
  {
   "cell_type": "code",
   "execution_count": null,
   "metadata": {},
   "outputs": [],
   "source": []
  }
 ],
 "metadata": {
  "kernelspec": {
   "display_name": "Python 3",
   "language": "python",
   "name": "python3"
  },
  "language_info": {
   "codemirror_mode": {
    "name": "ipython",
    "version": 3
   },
   "file_extension": ".py",
   "mimetype": "text/x-python",
   "name": "python",
   "nbconvert_exporter": "python",
   "pygments_lexer": "ipython3",
   "version": "3.7.3"
  }
 },
 "nbformat": 4,
 "nbformat_minor": 2
}
