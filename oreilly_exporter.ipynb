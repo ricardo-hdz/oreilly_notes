{
 "cells": [
  {
   "cell_type": "code",
   "execution_count": 1,
   "metadata": {},
   "outputs": [
    {
     "name": "stdout",
     "output_type": "stream",
     "text": [
      "\u001b[33mDEPRECATION: Python 2.7 reached the end of its life on January 1st, 2020. Please upgrade your Python as Python 2.7 is no longer maintained. A future version of pip will drop support for Python 2.7. More details about Python 2 support in pip, can be found at https://pip.pypa.io/en/latest/development/release-process/#python-2-support\u001b[0m\n",
      "Defaulting to user installation because normal site-packages is not writeable\n",
      "Requirement already satisfied: pandas in /Users/132201/Library/Python/2.7/lib/python/site-packages (0.24.2)\n",
      "Requirement already satisfied: pytz>=2011k in /System/Library/Frameworks/Python.framework/Versions/2.7/Extras/lib/python (from pandas) (2013.7)\n",
      "Requirement already satisfied: numpy>=1.12.0 in /Users/132201/Library/Python/2.7/lib/python/site-packages (from pandas) (1.16.6)\n",
      "Requirement already satisfied: python-dateutil>=2.5.0 in /Users/132201/Library/Python/2.7/lib/python/site-packages (from pandas) (2.8.1)\n",
      "Requirement already satisfied: six>=1.5 in /Users/132201/Library/Python/2.7/lib/python/site-packages (from python-dateutil>=2.5.0->pandas) (1.14.0)\n",
      "\u001b[33mDEPRECATION: Python 2.7 reached the end of its life on January 1st, 2020. Please upgrade your Python as Python 2.7 is no longer maintained. A future version of pip will drop support for Python 2.7. More details about Python 2 support in pip, can be found at https://pip.pypa.io/en/latest/development/release-process/#python-2-support\u001b[0m\n",
      "Defaulting to user installation because normal site-packages is not writeable\n",
      "Requirement already satisfied: numpy in /Users/132201/Library/Python/2.7/lib/python/site-packages (1.16.6)\n"
     ]
    }
   ],
   "source": [
    "!pip install pandas\n",
    "!pip install numpy"
   ]
  },
  {
   "cell_type": "code",
   "execution_count": 1,
   "metadata": {},
   "outputs": [],
   "source": [
    "import pandas as pd\n",
    "import numpy as np\n",
    "import os\n",
    "pd.set_option('max_colwidth', 5000)"
   ]
  },
  {
   "cell_type": "code",
   "execution_count": 2,
   "metadata": {},
   "outputs": [
    {
     "output_type": "execute_result",
     "data": {
      "text/plain": "<module 'posixpath' from '/Users/132201/.pyenv/versions/3.7.6/lib/python3.7/posixpath.py'>"
     },
     "metadata": {},
     "execution_count": 2
    }
   ],
   "source": [
    "os.path"
   ]
  },
  {
   "cell_type": "code",
   "execution_count": 3,
   "metadata": {},
   "outputs": [],
   "source": [
    "book_title = 'Kotlin in Action'\n",
    "f = 'safari-annotations-export.csv'"
   ]
  },
  {
   "cell_type": "code",
   "execution_count": 4,
   "metadata": {},
   "outputs": [],
   "source": [
    "d = pd.read_csv(f, skip_blank_lines=True, keep_default_na=False)"
   ]
  },
  {
   "cell_type": "code",
   "execution_count": 5,
   "metadata": {},
   "outputs": [
    {
     "output_type": "execute_result",
     "data": {
      "text/plain": "         Book Title            Authors                 Chapter Title  \\\n0  Kotlin in Action  Dmitry Jemerov...  Chapter 11. DSL construction   \n\n  Date of Highlight  \\\n0        2020-07-10   \n\n                                                                    Book URL  \\\n0  https://learning.oreilly.com/library/view/kotlin-in-action/9781617293290/   \n\n                                                                                      Chapter URL  \\\n0  https://learning.oreilly.com/library/view/kotlin-in-action/9781617293290/kindle_split_022.html   \n\n                                               Highlight URL  \\\n0  https://learning.oreilly.com/a/kotlin-in-action/48116531/   \n\n                                                                                                  Highlight  \\\n0  wo new features of Kotlin that can help you build DSLs: lambdas with receivers and the invoke convention   \n\n  Personal Note  \n0                ",
      "text/html": "<div>\n<style scoped>\n    .dataframe tbody tr th:only-of-type {\n        vertical-align: middle;\n    }\n\n    .dataframe tbody tr th {\n        vertical-align: top;\n    }\n\n    .dataframe thead th {\n        text-align: right;\n    }\n</style>\n<table border=\"1\" class=\"dataframe\">\n  <thead>\n    <tr style=\"text-align: right;\">\n      <th></th>\n      <th>Book Title</th>\n      <th>Authors</th>\n      <th>Chapter Title</th>\n      <th>Date of Highlight</th>\n      <th>Book URL</th>\n      <th>Chapter URL</th>\n      <th>Highlight URL</th>\n      <th>Highlight</th>\n      <th>Personal Note</th>\n    </tr>\n  </thead>\n  <tbody>\n    <tr>\n      <th>0</th>\n      <td>Kotlin in Action</td>\n      <td>Dmitry Jemerov...</td>\n      <td>Chapter 11. DSL construction</td>\n      <td>2020-07-10</td>\n      <td>https://learning.oreilly.com/library/view/kotlin-in-action/9781617293290/</td>\n      <td>https://learning.oreilly.com/library/view/kotlin-in-action/9781617293290/kindle_split_022.html</td>\n      <td>https://learning.oreilly.com/a/kotlin-in-action/48116531/</td>\n      <td>wo new features of Kotlin that can help you build DSLs: lambdas with receivers and the invoke convention</td>\n      <td></td>\n    </tr>\n  </tbody>\n</table>\n</div>"
     },
     "metadata": {},
     "execution_count": 5
    }
   ],
   "source": [
    "d.head(1)"
   ]
  },
  {
   "cell_type": "code",
   "execution_count": 6,
   "metadata": {},
   "outputs": [],
   "source": [
    "n = []\n",
    "for i, row in d.iterrows():\n",
    "    if row['Book Title'] == book_title:\n",
    "        n.append(row['Highlight'] + ' ' + row['Personal Note'])\n",
    "#     else:\n",
    "#         n.append((row['Book Title'] + ' ' +\n",
    "#             row['Authors'] + ' ' + \n",
    "#             row['Chapter Title'] + ' ' + \n",
    "#             row['Date of Highlight'] + ' ' +\n",
    "#             row['Book URL'] + ' ' +\n",
    "#             row['Chapter URL'] + ' ' +\n",
    "#             row['Highlight URL'] + ' ' +\n",
    "#             row['Highlight'] + ' ' +\n",
    "#             row['Personal Note']))"
   ]
  },
  {
   "cell_type": "code",
   "execution_count": 7,
   "metadata": {},
   "outputs": [],
   "source": [
    "notes = pd.DataFrame(n, columns=['note'])"
   ]
  },
  {
   "cell_type": "code",
   "execution_count": 8,
   "metadata": {},
   "outputs": [],
   "source": [
    "notes.iloc[::-1].to_clipboard(index=False, sep='\\n')"
   ]
  },
  {
   "cell_type": "code",
   "execution_count": null,
   "metadata": {},
   "outputs": [],
   "source": []
  }
 ],
 "metadata": {
  "kernelspec": {
   "display_name": "Python 3.7.6 64-bit ('3.7.6': pyenv)",
   "language": "python",
   "name": "python37664bit376pyenvf057df2cd8214c89ad47ec347f90c29e"
  },
  "language_info": {
   "codemirror_mode": {
    "name": "ipython",
    "version": 2
   },
   "file_extension": ".py",
   "mimetype": "text/x-python",
   "name": "python",
   "nbconvert_exporter": "python",
   "pygments_lexer": "ipython2",
   "version": "3.7.6-final"
  }
 },
 "nbformat": 4,
 "nbformat_minor": 2
}